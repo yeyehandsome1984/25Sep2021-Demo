{
  "nbformat": 4,
  "nbformat_minor": 0,
  "metadata": {
    "colab": {
      "provenance": [],
      "authorship_tag": "ABX9TyOX2X4XoZv2QAKtTxKxNY9t",
      "include_colab_link": true
    },
    "kernelspec": {
      "name": "python3",
      "display_name": "Python 3"
    },
    "language_info": {
      "name": "python"
    }
  },
  "cells": [
    {
      "cell_type": "markdown",
      "metadata": {
        "id": "view-in-github",
        "colab_type": "text"
      },
      "source": [
        "<a href=\"https://colab.research.google.com/github/yeyehandsome1984/25Sep2021-Demo/blob/main/Copy_of_Copy_of_Test.ipynb\" target=\"_parent\"><img src=\"https://colab.research.google.com/assets/colab-badge.svg\" alt=\"Open In Colab\"/></a>"
      ]
    },
    {
      "cell_type": "code",
      "source": [],
      "metadata": {
        "id": "BNecVbSvezhl"
      },
      "execution_count": null,
      "outputs": []
    },
    {
      "cell_type": "code",
      "source": [
        "c=20\n",
        "print (c)"
      ],
      "metadata": {
        "colab": {
          "base_uri": "https://localhost:8080/"
        },
        "id": "IYb6s2kQezeL",
        "outputId": "9bf11f07-3c48-4014-ca4c-9981d5014690"
      },
      "execution_count": null,
      "outputs": [
        {
          "output_type": "stream",
          "name": "stdout",
          "text": [
            "20\n"
          ]
        }
      ]
    },
    {
      "cell_type": "markdown",
      "source": [],
      "metadata": {
        "id": "T_mQrh1He2Ti"
      }
    },
    {
      "cell_type": "code",
      "source": [
        "handsome =[20,'yichen']\n",
        "handsome.append('handsome')\n",
        "print(handsome)\n"
      ],
      "metadata": {
        "id": "tKQKzApiezlP",
        "outputId": "afe589c6-83b2-4128-a354-33367713ce6f",
        "colab": {
          "base_uri": "https://localhost:8080/"
        }
      },
      "execution_count": null,
      "outputs": [
        {
          "output_type": "stream",
          "name": "stdout",
          "text": [
            "[20, 'yichen', 'handsome']\n"
          ]
        }
      ]
    }
  ]
}